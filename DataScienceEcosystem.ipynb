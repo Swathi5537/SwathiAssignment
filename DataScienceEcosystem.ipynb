{
 "cells": [
  {
   "cell_type": "markdown",
   "id": "528d8483-d91b-4a4f-beee-10b369b1f208",
   "metadata": {
    "tags": []
   },
   "source": [
    "# Data Science Tools and Ecosystem"
   ]
  },
  {
   "cell_type": "markdown",
   "id": "6e1e4ea0-2020-4e17-a484-228ee6710276",
   "metadata": {},
   "source": [
    "#In this notebook, Data Science Tools and Ecosystem are summarized"
   ]
  },
  {
   "cell_type": "markdown",
   "id": "4e270c34-7710-4d78-b5e2-7756fab8fd96",
   "metadata": {},
   "source": [
    "#Some of the popular languages that Data Scientists use are:\n",
    "* Python\n",
    "* R\n",
    "* Java\n",
    "* Scala\n",
    "* SQL\n",
    "* Julia\n",
    "* Java Script"
   ]
  },
  {
   "cell_type": "markdown",
   "id": "0148fe12-57d6-42a1-8966-a25b57477442",
   "metadata": {},
   "source": [
    "#Some of the commonly used libraries used by Data Scientists include:\n",
    "* Pandas\n",
    "* NumPy\n",
    "* SciPy\n",
    "* TensorFlow"
   ]
  },
  {
   "cell_type": "markdown",
   "id": "f8d4683f-a649-42d4-ae66-8c3673cb5c42",
   "metadata": {},
   "source": [
    "| Data Science Tools |\n",
    "| -------------|\n",
    "| JupyterNotebook | \n",
    "| RStudio |\n",
    "| Anaconda |"
   ]
  },
  {
   "cell_type": "markdown",
   "id": "9975cb27-2c3c-44f8-b04e-2a3040dbe292",
   "metadata": {},
   "source": [
    "### Below are a few examples of evaluating arithmetic expressions in Python"
   ]
  },
  {
   "cell_type": "code",
   "execution_count": 2,
   "id": "026ed9f7-72f5-4d6e-8084-ef216f872986",
   "metadata": {
    "tags": []
   },
   "outputs": [
    {
     "data": {
      "text/plain": [
       "17"
      ]
     },
     "execution_count": 2,
     "metadata": {},
     "output_type": "execute_result"
    }
   ],
   "source": [
    "# This a simple arithmetic expression to mutiply then add integers\n",
    "(3*4)+5"
   ]
  },
  {
   "cell_type": "code",
   "execution_count": 3,
   "id": "f4655ac0-02bd-42fa-ae60-be2f701e74cd",
   "metadata": {
    "tags": []
   },
   "outputs": [
    {
     "data": {
      "text/plain": [
       "3"
      ]
     },
     "execution_count": 3,
     "metadata": {},
     "output_type": "execute_result"
    }
   ],
   "source": [
    "# This will convert 200 minutes to hours by diving by 60\n",
    "200 // 60"
   ]
  },
  {
   "cell_type": "markdown",
   "id": "d30b4719-d391-442d-93da-4844209bc4e8",
   "metadata": {},
   "source": [
    "# In this notebook, Data Science Tools and Ecosystem are summarized"
   ]
  },
  {
   "cell_type": "markdown",
   "id": "9c14a700-f703-4dc3-a00e-f10a9ca77d7b",
   "metadata": {},
   "source": [
    "**Objectives:**\n",
    "* Tools used in Data Science\n",
    "* Languages used in Data Science\n",
    "* Libraies used in Data Science"
   ]
  },
  {
   "cell_type": "markdown",
   "id": "97e129c8-84e0-45ad-99fc-86ed0ecf2cc0",
   "metadata": {},
   "source": [
    "## Author\n",
    "Swathi R"
   ]
  },
  {
   "cell_type": "code",
   "execution_count": null,
   "id": "474772fd-a18d-4fa7-9b65-e0ea251fc4e5",
   "metadata": {},
   "outputs": [],
   "source": []
  }
 ],
 "metadata": {
  "kernelspec": {
   "display_name": "Python",
   "language": "python",
   "name": "conda-env-python-py"
  },
  "language_info": {
   "codemirror_mode": {
    "name": "ipython",
    "version": 3
   },
   "file_extension": ".py",
   "mimetype": "text/x-python",
   "name": "python",
   "nbconvert_exporter": "python",
   "pygments_lexer": "ipython3",
   "version": "3.7.12"
  }
 },
 "nbformat": 4,
 "nbformat_minor": 5
}
